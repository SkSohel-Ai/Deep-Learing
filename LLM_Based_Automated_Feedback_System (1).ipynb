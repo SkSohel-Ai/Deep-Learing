{
  "nbformat": 4,
  "nbformat_minor": 0,
  "metadata": {
    "colab": {
      "provenance": [],
      "gpuType": "T4"
    },
    "kernelspec": {
      "name": "python3",
      "display_name": "Python 3"
    },
    "language_info": {
      "name": "python"
    },
    "accelerator": "GPU"
  },
  "cells": [
    {
      "cell_type": "code",
      "execution_count": null,
      "metadata": {
        "colab": {
          "base_uri": "https://localhost:8080/"
        },
        "id": "1p-cNoZGoceC",
        "outputId": "8d46ddb6-4893-495b-f8ea-db68f4550bbd"
      },
      "outputs": [
        {
          "output_type": "stream",
          "name": "stdout",
          "text": [
            "Requirement already satisfied: openai in /usr/local/lib/python3.10/dist-packages (1.35.4)\n",
            "Requirement already satisfied: anyio<5,>=3.5.0 in /usr/local/lib/python3.10/dist-packages (from openai) (3.7.1)\n",
            "Requirement already satisfied: distro<2,>=1.7.0 in /usr/lib/python3/dist-packages (from openai) (1.7.0)\n",
            "Requirement already satisfied: httpx<1,>=0.23.0 in /usr/local/lib/python3.10/dist-packages (from openai) (0.27.0)\n",
            "Requirement already satisfied: pydantic<3,>=1.9.0 in /usr/local/lib/python3.10/dist-packages (from openai) (2.7.4)\n",
            "Requirement already satisfied: sniffio in /usr/local/lib/python3.10/dist-packages (from openai) (1.3.1)\n",
            "Requirement already satisfied: tqdm>4 in /usr/local/lib/python3.10/dist-packages (from openai) (4.66.4)\n",
            "Requirement already satisfied: typing-extensions<5,>=4.7 in /usr/local/lib/python3.10/dist-packages (from openai) (4.12.2)\n",
            "Requirement already satisfied: idna>=2.8 in /usr/local/lib/python3.10/dist-packages (from anyio<5,>=3.5.0->openai) (3.7)\n",
            "Requirement already satisfied: exceptiongroup in /usr/local/lib/python3.10/dist-packages (from anyio<5,>=3.5.0->openai) (1.2.1)\n",
            "Requirement already satisfied: certifi in /usr/local/lib/python3.10/dist-packages (from httpx<1,>=0.23.0->openai) (2024.6.2)\n",
            "Requirement already satisfied: httpcore==1.* in /usr/local/lib/python3.10/dist-packages (from httpx<1,>=0.23.0->openai) (1.0.5)\n",
            "Requirement already satisfied: h11<0.15,>=0.13 in /usr/local/lib/python3.10/dist-packages (from httpcore==1.*->httpx<1,>=0.23.0->openai) (0.14.0)\n",
            "Requirement already satisfied: annotated-types>=0.4.0 in /usr/local/lib/python3.10/dist-packages (from pydantic<3,>=1.9.0->openai) (0.7.0)\n",
            "Requirement already satisfied: pydantic-core==2.18.4 in /usr/local/lib/python3.10/dist-packages (from pydantic<3,>=1.9.0->openai) (2.18.4)\n"
          ]
        },
        {
          "output_type": "stream",
          "name": "stderr",
          "text": [
            "Exception in thread Thread-5 (attachment_entry):\n",
            "Traceback (most recent call last):\n",
            "  File \"/usr/local/lib/python3.10/dist-packages/debugpy/server/api.py\", line 237, in listen\n",
            "    sock, _ = endpoints_listener.accept()\n",
            "  File \"/usr/lib/python3.10/socket.py\", line 293, in accept\n",
            "    fd, addr = self._accept()\n",
            "TimeoutError: timed out\n",
            "\n",
            "During handling of the above exception, another exception occurred:\n",
            "\n",
            "Traceback (most recent call last):\n",
            "  File \"/usr/lib/python3.10/threading.py\", line 1016, in _bootstrap_inner\n",
            "    self.run()\n",
            "  File \"/usr/lib/python3.10/threading.py\", line 953, in run\n",
            "    self._target(*self._args, **self._kwargs)\n",
            "  File \"/usr/local/lib/python3.10/dist-packages/google/colab/_debugpy.py\", line 52, in attachment_entry\n",
            "    debugpy.listen(_dap_port)\n",
            "  File \"/usr/local/lib/python3.10/dist-packages/debugpy/public_api.py\", line 31, in wrapper\n",
            "    return wrapped(*args, **kwargs)\n",
            "  File \"/usr/local/lib/python3.10/dist-packages/debugpy/server/api.py\", line 143, in debug\n",
            "    log.reraise_exception(\"{0}() failed:\", func.__name__, level=\"info\")\n",
            "  File \"/usr/local/lib/python3.10/dist-packages/debugpy/server/api.py\", line 141, in debug\n",
            "    return func(address, settrace_kwargs, **kwargs)\n",
            "  File \"/usr/local/lib/python3.10/dist-packages/debugpy/server/api.py\", line 251, in listen\n",
            "    raise RuntimeError(\"timed out waiting for adapter to connect\")\n",
            "RuntimeError: timed out waiting for adapter to connect\n"
          ]
        }
      ],
      "source": [
        "!pip install openai"
      ]
    },
    {
      "cell_type": "code",
      "source": [
        "!pip install langchain\n",
        "!pip install typing"
      ],
      "metadata": {
        "colab": {
          "base_uri": "https://localhost:8080/"
        },
        "id": "5g7v2aWIo79P",
        "outputId": "5a27caeb-31f2-4736-84af-ef2e4bbd1ee5"
      },
      "execution_count": null,
      "outputs": [
        {
          "output_type": "stream",
          "name": "stdout",
          "text": [
            "Requirement already satisfied: langchain in /usr/local/lib/python3.10/dist-packages (0.2.6)\n",
            "Requirement already satisfied: PyYAML>=5.3 in /usr/local/lib/python3.10/dist-packages (from langchain) (6.0.1)\n",
            "Requirement already satisfied: SQLAlchemy<3,>=1.4 in /usr/local/lib/python3.10/dist-packages (from langchain) (2.0.31)\n",
            "Requirement already satisfied: aiohttp<4.0.0,>=3.8.3 in /usr/local/lib/python3.10/dist-packages (from langchain) (3.9.5)\n",
            "Requirement already satisfied: async-timeout<5.0.0,>=4.0.0 in /usr/local/lib/python3.10/dist-packages (from langchain) (4.0.3)\n",
            "Requirement already satisfied: langchain-core<0.3.0,>=0.2.10 in /usr/local/lib/python3.10/dist-packages (from langchain) (0.2.10)\n",
            "Requirement already satisfied: langchain-text-splitters<0.3.0,>=0.2.0 in /usr/local/lib/python3.10/dist-packages (from langchain) (0.2.2)\n",
            "Requirement already satisfied: langsmith<0.2.0,>=0.1.17 in /usr/local/lib/python3.10/dist-packages (from langchain) (0.1.82)\n",
            "Requirement already satisfied: numpy<2,>=1 in /usr/local/lib/python3.10/dist-packages (from langchain) (1.25.2)\n",
            "Requirement already satisfied: pydantic<3,>=1 in /usr/local/lib/python3.10/dist-packages (from langchain) (2.7.4)\n",
            "Requirement already satisfied: requests<3,>=2 in /usr/local/lib/python3.10/dist-packages (from langchain) (2.31.0)\n",
            "Requirement already satisfied: tenacity!=8.4.0,<9.0.0,>=8.1.0 in /usr/local/lib/python3.10/dist-packages (from langchain) (8.4.1)\n",
            "Requirement already satisfied: aiosignal>=1.1.2 in /usr/local/lib/python3.10/dist-packages (from aiohttp<4.0.0,>=3.8.3->langchain) (1.3.1)\n",
            "Requirement already satisfied: attrs>=17.3.0 in /usr/local/lib/python3.10/dist-packages (from aiohttp<4.0.0,>=3.8.3->langchain) (23.2.0)\n",
            "Requirement already satisfied: frozenlist>=1.1.1 in /usr/local/lib/python3.10/dist-packages (from aiohttp<4.0.0,>=3.8.3->langchain) (1.4.1)\n",
            "Requirement already satisfied: multidict<7.0,>=4.5 in /usr/local/lib/python3.10/dist-packages (from aiohttp<4.0.0,>=3.8.3->langchain) (6.0.5)\n",
            "Requirement already satisfied: yarl<2.0,>=1.0 in /usr/local/lib/python3.10/dist-packages (from aiohttp<4.0.0,>=3.8.3->langchain) (1.9.4)\n",
            "Requirement already satisfied: jsonpatch<2.0,>=1.33 in /usr/local/lib/python3.10/dist-packages (from langchain-core<0.3.0,>=0.2.10->langchain) (1.33)\n",
            "Requirement already satisfied: packaging<25,>=23.2 in /usr/local/lib/python3.10/dist-packages (from langchain-core<0.3.0,>=0.2.10->langchain) (24.1)\n",
            "Requirement already satisfied: orjson<4.0.0,>=3.9.14 in /usr/local/lib/python3.10/dist-packages (from langsmith<0.2.0,>=0.1.17->langchain) (3.10.5)\n",
            "Requirement already satisfied: annotated-types>=0.4.0 in /usr/local/lib/python3.10/dist-packages (from pydantic<3,>=1->langchain) (0.7.0)\n",
            "Requirement already satisfied: pydantic-core==2.18.4 in /usr/local/lib/python3.10/dist-packages (from pydantic<3,>=1->langchain) (2.18.4)\n",
            "Requirement already satisfied: typing-extensions>=4.6.1 in /usr/local/lib/python3.10/dist-packages (from pydantic<3,>=1->langchain) (4.12.2)\n",
            "Requirement already satisfied: charset-normalizer<4,>=2 in /usr/local/lib/python3.10/dist-packages (from requests<3,>=2->langchain) (3.3.2)\n",
            "Requirement already satisfied: idna<4,>=2.5 in /usr/local/lib/python3.10/dist-packages (from requests<3,>=2->langchain) (3.7)\n",
            "Requirement already satisfied: urllib3<3,>=1.21.1 in /usr/local/lib/python3.10/dist-packages (from requests<3,>=2->langchain) (2.0.7)\n",
            "Requirement already satisfied: certifi>=2017.4.17 in /usr/local/lib/python3.10/dist-packages (from requests<3,>=2->langchain) (2024.6.2)\n",
            "Requirement already satisfied: greenlet!=0.4.17 in /usr/local/lib/python3.10/dist-packages (from SQLAlchemy<3,>=1.4->langchain) (3.0.3)\n",
            "Requirement already satisfied: jsonpointer>=1.9 in /usr/local/lib/python3.10/dist-packages (from jsonpatch<2.0,>=1.33->langchain-core<0.3.0,>=0.2.10->langchain) (3.0.0)\n",
            "Requirement already satisfied: typing in /usr/local/lib/python3.10/dist-packages (3.7.4.3)\n"
          ]
        }
      ]
    },
    {
      "cell_type": "code",
      "source": [
        "# Required Libraries\n",
        "import openai\n",
        "from typing import List\n",
        "\n",
        "# Initialize OpenAI API\n",
        "openai.api_key = ''\n",
        "\n",
        "# Buffer memory to maintain conversation context\n",
        "conversation_memory = []\n",
        "\n",
        "# Function to interact with OpenAI's language model\n",
        "def chat_with_openai(messages: List[dict]) -> dict:\n",
        "    response = openai.ChatCompletion.create(\n",
        "        model=\"gpt-4\",\n",
        "        messages=messages,\n",
        "        max_tokens=150,  # Adjust based on how long you expect the response to be\n",
        "        n=1,\n",
        "        stop=None,\n",
        "        temperature=0.7  # Adjust based on how creative or factual you want the response to be\n",
        "    )\n",
        "    return response.choices[0].message['content']\n",
        "\n",
        "# Function to simulate the conversation\n",
        "def simulate_customer_feedback_conversation():\n",
        "    global conversation_memory\n",
        "\n",
        "    # Initial Greeting\n",
        "    conversation_memory.append({\"role\": \"system\", \"content\": \"You are a customer care support agent named Jarvis from Mamaearth. You are contacting a customer to take a review about their recent purchase of facewash.\"})\n",
        "\n",
        "    # Asking for Name and Availability\n",
        "    conversation_memory.append({\"role\": \"assistant\", \"content\": \"Hello! I'm Jarvis from Mamaearth. May I know your name, please?\"})\n",
        "    print(\"Jarvis: Hello! I'm Jarvis from Mamaearth. May I know your name, please?\")\n",
        "    customer_name = input(\"Customer: \")\n",
        "    conversation_memory.append({\"role\": \"user\", \"content\": customer_name})\n",
        "\n",
        "    conversation_memory.append({\"role\": \"assistant\", \"content\": f\"Hi {customer_name}, is this a good time to talk?\"})\n",
        "    print(f\"Jarvis: Hi {customer_name}, is this a good time to talk?\")\n",
        "    is_good_time = input(\"Customer: \")\n",
        "    conversation_memory.append({\"role\": \"user\", \"content\": is_good_time})\n",
        "\n",
        "    if 'yes' in is_good_time.lower():\n",
        "        # Questions list\n",
        "        questions = [\n",
        "            \"On a scale from 1 to 5, how would you rate the effectiveness of our facewash in meeting your skincare needs?\",\n",
        "            \"What do you appreciate the most about our facewash? Is it the texture, the scent, the results?\",\n",
        "            \"Since starting to use our facewash, have you noticed any significant improvements in your skin's appearance or feel?\",\n",
        "            \"Is there anything about the facewash that you think could be improved, whether it's the packaging, the formula, or something else?\",\n",
        "            \"How likely are you to buy our facewash again? Would you say very likely, somewhat likely, or not likely?\",\n",
        "            \"Would you recommend our facewash to friends or family? Why or why not?\",\n",
        "            \"Do you have any other comments or suggestions that might help us enhance your experience?\"\n",
        "        ]\n",
        "\n",
        "        for question in questions:\n",
        "            conversation_memory.append({\"role\": \"assistant\", \"content\": question})\n",
        "            print(f\"Jarvis: {question}\")\n",
        "            customer_response = input(\"Customer: \")\n",
        "            conversation_memory.append({\"role\": \"user\", \"content\": customer_response})\n",
        "\n",
        "        # Ending the conversation\n",
        "        conversation_memory.append({\"role\": \"assistant\", \"content\": f\"Thank you for your feedback, {customer_name}. We appreciate your time and hope you have a great day!\"})\n",
        "        print(f\"Jarvis: Thank you for your feedback, {customer_name}. We appreciate your time and hope you have a great day!\")\n",
        "    else:\n",
        "        conversation_memory.append({\"role\": \"assistant\", \"content\": \"I understand. When would be a better time to talk?\"})\n",
        "        print(\"Jarvis: I understand. When would be a better time to talk?\")\n",
        "        preferred_time = input(\"Customer: \")\n",
        "        conversation_memory.append({\"role\": \"user\", \"content\": preferred_time})\n",
        "        print(f\"Jarvis: Great! I'll reach out to you at {preferred_time}. Have a nice day!\")\n",
        "\n",
        "# Simulate the conversation\n",
        "simulate_customer_feedback_conversation()\n"
      ],
      "metadata": {
        "colab": {
          "base_uri": "https://localhost:8080/"
        },
        "id": "16kHydfeorWv",
        "outputId": "5ba5c65a-8bc2-47cb-a18a-7c23436bc547"
      },
      "execution_count": null,
      "outputs": [
        {
          "output_type": "stream",
          "name": "stdout",
          "text": [
            "Jarvis: Hello! I'm Jarvis from Mamaearth. May I know your name, please?\n",
            "Customer: sohel\n",
            "Jarvis: Hi sohel, is this a good time to talk?\n",
            "Customer: yes\n",
            "Jarvis: On a scale from 1 to 5, how would you rate the effectiveness of our facewash in meeting your skincare needs?\n",
            "Customer: 4\n",
            "Jarvis: What do you appreciate the most about our facewash? Is it the texture, the scent, the results?\n",
            "Customer: scent\n",
            "Jarvis: Since starting to use our facewash, have you noticed any significant improvements in your skin's appearance or feel?\n",
            "Customer: yes\n",
            "Jarvis: Is there anything about the facewash that you think could be improved, whether it's the packaging, the formula, or something else?\n",
            "Customer: formula\n",
            "Jarvis: How likely are you to buy our facewash again? Would you say very likely, somewhat likely, or not likely?\n",
            "Customer: very likely\n",
            "Jarvis: Would you recommend our facewash to friends or family? Why or why not?\n",
            "Customer: no\n",
            "Jarvis: Do you have any other comments or suggestions that might help us enhance your experience?\n",
            "Customer: nothing\n",
            "Jarvis: Thank you for your feedback, sohel. We appreciate your time and hope you have a great day!\n"
          ]
        }
      ]
    },
    {
      "cell_type": "code",
      "source": [],
      "metadata": {
        "id": "1NUegMclpWFf"
      },
      "execution_count": null,
      "outputs": []
    }
  ]
}